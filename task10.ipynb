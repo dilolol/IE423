{
  "nbformat": 4,
  "nbformat_minor": 0,
  "metadata": {
    "colab": {
      "provenance": [],
      "authorship_tag": "ABX9TyOuQb2vmiDrecYjtDOBmxD3",
      "include_colab_link": true
    },
    "kernelspec": {
      "name": "python3",
      "display_name": "Python 3"
    },
    "language_info": {
      "name": "python"
    }
  },
  "cells": [
    {
      "cell_type": "markdown",
      "metadata": {
        "id": "view-in-github",
        "colab_type": "text"
      },
      "source": [
        "<a href=\"https://colab.research.google.com/github/dilolol/IE423/blob/main/task10.ipynb\" target=\"_parent\"><img src=\"https://colab.research.google.com/assets/colab-badge.svg\" alt=\"Open In Colab\"/></a>"
      ]
    },
    {
      "cell_type": "code",
      "execution_count": null,
      "metadata": {
        "id": "niU8oQpeYBus"
      },
      "outputs": [],
      "source": [
        "import pandas as pd\n",
        "from statsmodels.tsa.statespace.sarimax import SARIMAX\n",
        "from sklearn.metrics import mean_squared_error\n",
        "import numpy as np"
      ]
    },
    {
      "cell_type": "code",
      "source": [
        "from google.colab import drive\n",
        "drive.mount('/content/drive')"
      ],
      "metadata": {
        "colab": {
          "base_uri": "https://localhost:8080/"
        },
        "id": "1EcgkDMeeEwW",
        "outputId": "76406fb4-a20f-4990-e1aa-0e0b39f75a96"
      },
      "execution_count": null,
      "outputs": [
        {
          "output_type": "stream",
          "name": "stdout",
          "text": [
            "Drive already mounted at /content/drive; to attempt to forcibly remount, call drive.mount(\"/content/drive\", force_remount=True).\n"
          ]
        }
      ]
    },
    {
      "cell_type": "code",
      "source": [
        "test_dataframes = pd.read_excel(r\"/content/drive/MyDrive/test_dataframes.xlsx\")\n",
        "train_dataframes = pd.read_excel(r\"/content/drive/MyDrive/train_dataframes.xlsx\")\n",
        "weekly_forecast = pd.read_csv(\"/content/drive/MyDrive/weekly_pre-dispatch_forecast.csv\")\n",
        "continuous_data = pd.read_csv(\"/content/drive/MyDrive/continuousdataset.csv\")"
      ],
      "metadata": {
        "id": "FEvdeGLXeIQj"
      },
      "execution_count": null,
      "outputs": []
    },
    {
      "cell_type": "code",
      "source": [
        "# Split the data into training and testing sets\n",
        "train_size = int(len(continuous_data) * 0.8)\n",
        "train, test = continuous_data['nat_demand'][:train_size], continuous_data['nat_demand'][train_size:]\n",
        "\n",
        "# Fit a SARIMA model\n",
        "model = SARIMAX(train, order=(1, 1, 1), seasonal_order=(1, 1, 1, 24))\n",
        "model_fit = model.fit(disp=False)\n",
        "\n",
        "# Forecast the test dataset\n",
        "forecast = model_fit.forecast(steps=len(test))\n",
        "\n",
        "# Calculate the root mean squared error\n",
        "rmse = np.sqrt(mean_squared_error(test, forecast))\n",
        "print(f'Root Mean Squared Error: {rmse:.2f}')\n",
        "\n",
        "# Plot the results\n",
        "plt.figure(figsize=(14, 6))\n",
        "plt.plot(train.index, train, label='Training Data')\n",
        "plt.plot(test.index, test, label='Actual Demand', color='orange')\n",
        "plt.plot(test.index, forecast, label='Forecasted Demand', color='green')\n",
        "plt.title('SARIMA Forecasting of National Electricity Demand')\n",
        "plt.xlabel('Date')\n",
        "plt.ylabel('Electricity Demand')\n",
        "plt.legend()\n",
        "plt.grid(True)\n",
        "plt.show()"
      ],
      "metadata": {
        "id": "muj5JI_4Zo4v"
      },
      "execution_count": null,
      "outputs": []
    },
    {
      "cell_type": "code",
      "source": [
        "from statsmodels.tsa.statespace.sarimax import SARIMAX\n",
        "from sklearn.metrics import mean_squared_error\n",
        "import numpy as np\n",
        "import matplotlib.pyplot as plt\n",
        "\n",
        "# Split the data into training and testing sets\n",
        "train_size = int(len(continuous_data) * 0.8)\n",
        "train, test = continuous_data['nat_demand'][:train_size], continuous_data['nat_demand'][train_size:]\n",
        "\n",
        "# Fit a SARIMA model\n",
        "# The order is chosen based on general assumptions; consider using a grid search for optimal parameters\n",
        "model = SARIMAX(train, order=(1, 1, 1), seasonal_order=(1, 1, 1, 24))\n",
        "model_fit = model.fit(disp=False)\n",
        "\n",
        "# Forecast the test dataset\n",
        "forecast = model_fit.forecast(steps=len(test))\n",
        "\n",
        "# Calculate the root mean squared error\n",
        "rmse = np.sqrt(mean_squared_error(test, forecast))\n",
        "print(f'Root Mean Squared Error: {rmse:.2f}')\n",
        "\n",
        "# Plot the results\n",
        "plt.figure(figsize=(14, 6))\n",
        "plt.plot(train.index, train, label='Training Data')\n",
        "plt.plot(test.index, test, label='Actual Demand', color='orange')\n",
        "plt.plot(test.index, forecast, label='Forecasted Demand', color='green')\n",
        "plt.title('SARIMA Forecasting of National Electricity Demand')\n",
        "plt.xlabel('Date')\n",
        "plt.ylabel('Electricity Demand')\n",
        "plt.legend()\n",
        "plt.grid(True)\n",
        "plt.show()\n"
      ],
      "metadata": {
        "colab": {
          "base_uri": "https://localhost:8080/",
          "height": 211
        },
        "id": "t0NTIdy3aEkg",
        "outputId": "f3da1545-6f3d-4574-e4ab-52c6970540ab"
      },
      "execution_count": null,
      "outputs": [
        {
          "output_type": "error",
          "ename": "NameError",
          "evalue": "name 'continuous_data' is not defined",
          "traceback": [
            "\u001b[0;31m---------------------------------------------------------------------------\u001b[0m",
            "\u001b[0;31mNameError\u001b[0m                                 Traceback (most recent call last)",
            "\u001b[0;32m<ipython-input-1-bb0f2a0084df>\u001b[0m in \u001b[0;36m<cell line: 7>\u001b[0;34m()\u001b[0m\n\u001b[1;32m      5\u001b[0m \u001b[0;34m\u001b[0m\u001b[0m\n\u001b[1;32m      6\u001b[0m \u001b[0;31m# Split the data into training and testing sets\u001b[0m\u001b[0;34m\u001b[0m\u001b[0;34m\u001b[0m\u001b[0m\n\u001b[0;32m----> 7\u001b[0;31m \u001b[0mtrain_size\u001b[0m \u001b[0;34m=\u001b[0m \u001b[0mint\u001b[0m\u001b[0;34m(\u001b[0m\u001b[0mlen\u001b[0m\u001b[0;34m(\u001b[0m\u001b[0mcontinuous_data\u001b[0m\u001b[0;34m)\u001b[0m \u001b[0;34m*\u001b[0m \u001b[0;36m0.8\u001b[0m\u001b[0;34m)\u001b[0m\u001b[0;34m\u001b[0m\u001b[0;34m\u001b[0m\u001b[0m\n\u001b[0m\u001b[1;32m      8\u001b[0m \u001b[0mtrain\u001b[0m\u001b[0;34m,\u001b[0m \u001b[0mtest\u001b[0m \u001b[0;34m=\u001b[0m \u001b[0mcontinuous_data\u001b[0m\u001b[0;34m[\u001b[0m\u001b[0;34m'nat_demand'\u001b[0m\u001b[0;34m]\u001b[0m\u001b[0;34m[\u001b[0m\u001b[0;34m:\u001b[0m\u001b[0mtrain_size\u001b[0m\u001b[0;34m]\u001b[0m\u001b[0;34m,\u001b[0m \u001b[0mcontinuous_data\u001b[0m\u001b[0;34m[\u001b[0m\u001b[0;34m'nat_demand'\u001b[0m\u001b[0;34m]\u001b[0m\u001b[0;34m[\u001b[0m\u001b[0mtrain_size\u001b[0m\u001b[0;34m:\u001b[0m\u001b[0;34m]\u001b[0m\u001b[0;34m\u001b[0m\u001b[0;34m\u001b[0m\u001b[0m\n\u001b[1;32m      9\u001b[0m \u001b[0;34m\u001b[0m\u001b[0m\n",
            "\u001b[0;31mNameError\u001b[0m: name 'continuous_data' is not defined"
          ]
        }
      ]
    }
  ]
}